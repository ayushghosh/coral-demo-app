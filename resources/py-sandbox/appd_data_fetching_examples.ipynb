{
 "cells": [
  {
   "cell_type": "markdown",
   "metadata": {},
   "source": [
    "## Imports"
   ]
  },
  {
   "cell_type": "code",
   "execution_count": 25,
   "metadata": {},
   "outputs": [],
   "source": [
    "import yaml\n",
    "from appd_client import * "
   ]
  },
  {
   "cell_type": "markdown",
   "metadata": {},
   "source": [
    "## Workspace"
   ]
  },
  {
   "cell_type": "code",
   "execution_count": 26,
   "metadata": {},
   "outputs": [],
   "source": [
    "# load session information from local file. will look something like this: \n",
    "''' \n",
    "app_id: app_name - yea sorry bout this convention, it's just how the appd python api works\n",
    "app_num: '#####'\n",
    "base_url: 'https://<controller>.<etcetcetc>'\n",
    "jsession: JSESSIONID=<session_id>\n",
    "metric_path: Overall Application Performance|auth-services|Calls per Minute\n",
    "''' \n",
    "\n",
    "session_path = 'local/session.yaml'\n",
    "with open(session_path) as f:\n",
    "    session_params = yaml.safe_load(f)"
   ]
  },
  {
   "cell_type": "code",
   "execution_count": 27,
   "metadata": {},
   "outputs": [],
   "source": [
    "# connect to client\n",
    "client = AppDynamicsClient(base_url = session_params['base_url'], jsession=session_params['jsession'])"
   ]
  },
  {
   "cell_type": "code",
   "execution_count": 28,
   "metadata": {},
   "outputs": [
    {
     "name": "stdout",
     "output_type": "stream",
     "text": [
      "[{'name': 'AD-Retail', 'description': '', 'id': 16022, 'accountGuid': 'b254bbaa-11b4-482b-ac5b-8830ee642105'}, {'name': 'AD-Ecommerce2_otel', 'description': '', 'id': 18479, 'accountGuid': 'b254bbaa-11b4-482b-ac5b-8830ee642105'}, {'name': 'unified-observability-demo', 'description': '', 'id': 18415, 'accountGuid': 'b254bbaa-11b4-482b-ac5b-8830ee642105'}, {'name': 'AD-DevOps-Offers', 'description': '', 'id': 18113, 'accountGuid': 'b254bbaa-11b4-482b-ac5b-8830ee642105'}, {'name': 'AD-Financial-Cloud', 'description': '', 'id': 13470, 'accountGuid': 'b254bbaa-11b4-482b-ac5b-8830ee642105'}, {'name': 'Movie Tickets Online', 'description': '', 'id': 15782, 'accountGuid': 'b254bbaa-11b4-482b-ac5b-8830ee642105'}, {'name': 'SAP-ERP', 'description': '', 'id': 15637, 'accountGuid': 'b254bbaa-11b4-482b-ac5b-8830ee642105'}, {'name': 'AD-Financial-Next', 'description': '', 'id': 13440, 'accountGuid': 'b254bbaa-11b4-482b-ac5b-8830ee642105'}, {'name': 'AD-DevOps-Offers-DemoAdmin', 'description': '', 'id': 17508, 'accountGuid': 'b254bbaa-11b4-482b-ac5b-8830ee642105'}, {'name': 'ECommerce - DONOTDELETE', 'description': '', 'id': 15719, 'accountGuid': 'b254bbaa-11b4-482b-ac5b-8830ee642105'}, {'name': 'production-sock-shop', 'description': '', 'id': 18010, 'accountGuid': 'b254bbaa-11b4-482b-ac5b-8830ee642105'}, {'name': 'AD-Ecommerce', 'description': '', 'id': 18112, 'accountGuid': 'b254bbaa-11b4-482b-ac5b-8830ee642105'}, {'name': 'AD-Fraud-Detection', 'description': 'test66-1', 'id': 13801, 'accountGuid': 'b254bbaa-11b4-482b-ac5b-8830ee642105'}, {'name': 'ECommerce-Fulfillment - DONOTDELETE', 'description': '', 'id': 15770, 'accountGuid': 'b254bbaa-11b4-482b-ac5b-8830ee642105'}, {'name': 'AD-Ecommerce-Fulfillment', 'description': '', 'id': 17991, 'accountGuid': 'b254bbaa-11b4-482b-ac5b-8830ee642105'}, {'name': 'AD-Travel', 'description': '', 'id': 15774, 'accountGuid': 'b254bbaa-11b4-482b-ac5b-8830ee642105'}, {'name': 'AD-Financial', 'description': '', 'id': 13469, 'accountGuid': 'b254bbaa-11b4-482b-ac5b-8830ee642105'}, {'name': 'AD-DevOps', 'description': '', 'id': 17507, 'accountGuid': 'b254bbaa-11b4-482b-ac5b-8830ee642105'}, {'name': 'AD-Movie Tickets Core', 'description': '', 'id': 16224, 'accountGuid': 'b254bbaa-11b4-482b-ac5b-8830ee642105'}, {'name': 'AD-Ecommerce-Fulfillment-Cloud', 'description': '', 'id': 17990, 'accountGuid': 'b254bbaa-11b4-482b-ac5b-8830ee642105'}]\n"
     ]
    }
   ],
   "source": [
    "# try one of the APIs\n",
    "r = client.get_applications()\n",
    "print(r)"
   ]
  },
  {
   "cell_type": "code",
   "execution_count": 29,
   "metadata": {},
   "outputs": [],
   "source": [
    "# and there are a bunch more available\n",
    "\n",
    "# r = client.get_metrics(app_id=app_id, metric_path=metric_path, rollup=False)\n",
    "# r = client.get_snapshots(app_id=app_id)\n",
    "# r = client.get_nodes(app_id=app_id)\n",
    "# r = client.get_tiers(app_id=app_id)\n",
    "# r = client.get_backends(app_id=app_id)\n",
    "# r = client.get_healthrule_violations(app_id=app_id)\n",
    "# r = client.get_flowmap(app_num=app_num)\n",
    "# r = client.get_metric_tree(app_id=app_id)\n",
    "# r = client.get_metric_tree(app_id=app_id, metric_path='Overall Application Performance')"
   ]
  }
 ],
 "metadata": {
  "kernelspec": {
   "display_name": "py-causal",
   "language": "python",
   "name": "python3"
  },
  "language_info": {
   "codemirror_mode": {
    "name": "ipython",
    "version": 3
   },
   "file_extension": ".py",
   "mimetype": "text/x-python",
   "name": "python",
   "nbconvert_exporter": "python",
   "pygments_lexer": "ipython3",
   "version": "3.11.10"
  }
 },
 "nbformat": 4,
 "nbformat_minor": 2
}
