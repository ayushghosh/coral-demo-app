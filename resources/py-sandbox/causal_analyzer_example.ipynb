{
 "cells": [
  {
   "cell_type": "markdown",
   "metadata": {},
   "source": [
    "## Imports"
   ]
  },
  {
   "cell_type": "code",
   "execution_count": 1,
   "metadata": {},
   "outputs": [
    {
     "name": "stderr",
     "output_type": "stream",
     "text": [
      "/Users/by-gc-ia/opt/anaconda3/envs/py-dowhy/lib/python3.11/site-packages/tqdm/auto.py:21: TqdmWarning: IProgress not found. Please update jupyter and ipywidgets. See https://ipywidgets.readthedocs.io/en/stable/user_install.html\n",
      "  from .autonotebook import tqdm as notebook_tqdm\n"
     ]
    }
   ],
   "source": [
    "from causal_analyzer import CausalImpactAnalyzer"
   ]
  },
  {
   "cell_type": "markdown",
   "metadata": {},
   "source": [
    "## Workspace"
   ]
  },
  {
   "cell_type": "markdown",
   "metadata": {},
   "source": [
    "### Specify data paths"
   ]
  },
  {
   "cell_type": "code",
   "execution_count": 2,
   "metadata": {},
   "outputs": [],
   "source": [
    "normal_data_path = \"dummy_data/rca_microservice_architecture_latencies.csv\"\n",
    "outlier_data_path = \"dummy_data/rca_microservice_architecture_anomaly_1000.csv\"\n",
    "causal_graph_path = \"dummy_data/causal_graph.json\"\n",
    "target_node_path = \"dummy_data/target_node.txt\""
   ]
  },
  {
   "cell_type": "markdown",
   "metadata": {},
   "source": [
    "### Run analysis"
   ]
  },
  {
   "cell_type": "code",
   "execution_count": null,
   "metadata": {},
   "outputs": [],
   "source": [
    "# Create an instance of the CausalImpactAnalyzer\n",
    "analyzer = CausalImpactAnalyzer()\n",
    "\n",
    "# Load data and identify attributions\n",
    "median_attribs, uncertainty_attribs = analyzer.load_and_identify_attributions(\n",
    "    normal_data_path, \n",
    "    outlier_data_path, \n",
    "    causal_graph_path, \n",
    "    target_node_path\n",
    ")\n",
    "\n",
    "# Plot the attributions\n",
    "plot_bytes = analyzer.plot_attributions(median_attribs, uncertainty_attribs)"
   ]
  }
 ],
 "metadata": {
  "kernelspec": {
   "display_name": "py-dowhy",
   "language": "python",
   "name": "python3"
  },
  "language_info": {
   "codemirror_mode": {
    "name": "ipython",
    "version": 3
   },
   "file_extension": ".py",
   "mimetype": "text/x-python",
   "name": "python",
   "nbconvert_exporter": "python",
   "pygments_lexer": "ipython3",
   "version": "3.11.10"
  }
 },
 "nbformat": 4,
 "nbformat_minor": 2
}
